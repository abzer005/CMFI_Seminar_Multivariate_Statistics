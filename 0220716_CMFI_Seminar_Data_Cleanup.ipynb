{
 "cells": [
  {
   "cell_type": "markdown",
   "id": "55766981",
   "metadata": {
    "id": "55766981"
   },
   "source": [
    "## Data Clean up\n",
    "Authors: Abzer Kelminal (abzer.shah@uni-tuebingen.de) <br>\n",
    "Edited by:  <br>\n",
    "Input file format: .csv files or .txt files <br>\n",
    "Outputs: .csv files  <br>\n",
    "Dependencies: ggplot2, dplyr"
   ]
  },
  {
   "cell_type": "code",
   "execution_count": 121,
   "id": "BvfG-ihq2PZP",
   "metadata": {
    "colab": {
     "base_uri": "https://localhost:8080/"
    },
    "executionInfo": {
     "elapsed": 530,
     "status": "ok",
     "timestamp": 1657987575699,
     "user": {
      "displayName": "Abzer Kelminal.P M",
      "userId": "16537922509430952288"
     },
     "user_tz": -120
    },
    "id": "BvfG-ihq2PZP",
    "outputId": "6c2da031-ac32-4295-d959-807e5887876f"
   },
   "outputs": [
    {
     "name": "stderr",
     "output_type": "stream",
     "text": [
      "Loading required package: ecodist\n",
      "Warning message:\n",
      "\"package 'ecodist' was built under R version 3.6.3\""
     ]
    }
   ],
   "source": [
    "#installing and calling the necessary packages:\n",
    "if (!require(\"ggplot2\")) install.packages(\"ggplot2\")\n",
    "if (!require(\"dplyr\")) install.packages(\"dplyr\")\n",
    "if (!require(\"ecodist\")) install.packages(\"ecodist\")\n",
    "if (!require(\"vegan\")) install.packages(\"vegan\")"
   ]
  },
  {
   "cell_type": "code",
   "execution_count": 150,
   "id": "6cee277f",
   "metadata": {},
   "outputs": [
    {
     "name": "stderr",
     "output_type": "stream",
     "text": [
      "Loading required package: svglite\n",
      "Warning message:\n",
      "\"package 'svglite' was built under R version 3.6.3\""
     ]
    }
   ],
   "source": [
    "if (!require(\"svglite\")) install.packages(\"svglite\")"
   ]
  },
  {
   "cell_type": "markdown",
   "id": "3a31eafc",
   "metadata": {
    "id": "3a31eafc"
   },
   "source": [
    "## Reading the input data using URL (from Github):"
   ]
  },
  {
   "cell_type": "code",
   "execution_count": null,
   "id": "7988ffd6",
   "metadata": {
    "id": "7988ffd6"
   },
   "outputs": [],
   "source": [
    "## Non-gap filled\n",
    "nft_url <- 'https://raw.githubusercontent.com/madeleineernst/Metabolomics_SummerSchool_2022/main/data/MZmine/Xenobiotic_Metabolism_ChemProp2_NonGapFilled_QuantTable.csv'\n",
    "## Gap filled\n",
    "ft_url <- 'https://raw.githubusercontent.com/madeleineernst/Metabolomics_SummerSchool_2022/main/data/MZmine/Xenobiotic_Metabolism_ChemProp2_GapFilled_QuantTable.csv'\n",
    "md_url <- 'https://raw.githubusercontent.com/madeleineernst/Metabolomics_SummerSchool_2022/main/data/Xenobiotic_Metabolism_metadata.txt'"
   ]
  },
  {
   "cell_type": "code",
   "execution_count": null,
   "id": "3ad9e910",
   "metadata": {
    "id": "3ad9e910"
   },
   "outputs": [],
   "source": [
    "nft <- read.csv(nft_url, header = T, check.names = F)\n",
    "ft <- read.csv(ft_url, header = T, check.names = F)\n",
    "md <- read.csv(md_url, header = T, check.names = F, sep = '\\t')"
   ]
  },
  {
   "cell_type": "markdown",
   "id": "863a44d4",
   "metadata": {
    "id": "863a44d4"
   },
   "source": [
    "## Setting a local working directory and creating an automatic result directory:"
   ]
  },
  {
   "cell_type": "code",
   "execution_count": null,
   "id": "4734f4b6",
   "metadata": {
    "id": "4734f4b6"
   },
   "outputs": [],
   "source": [
    "# setting the current directory as the working directory\n",
    "Directory <- normalizePath(readline(\"Enter the path of the folder with input files: \"),\"/\",mustWork=FALSE)\n",
    "setwd(Directory)"
   ]
  },
  {
   "cell_type": "code",
   "execution_count": null,
   "id": "e0436b28",
   "metadata": {
    "id": "e0436b28"
   },
   "outputs": [],
   "source": [
    "getwd() #to get the working directory "
   ]
  },
  {
   "cell_type": "code",
   "execution_count": null,
   "id": "dd010938",
   "metadata": {
    "id": "dd010938"
   },
   "outputs": [],
   "source": [
    "# Getting all the files in the folder\n",
    "dirs <- dir(path=paste(getwd(), sep=\"\"), full.names=TRUE, recursive=TRUE)\n",
    "folders <- unique(dirname(dirs))\n",
    "files <- list.files(folders, full.names=TRUE)\n",
    "files_1 <- basename((files))\n",
    "files_2 <- dirname((files))\n",
    "# Creating a Result folder\n",
    "dir.create(path=paste(files_2[[1]], \"_Results\", sep=\"\"), showWarnings = TRUE)\n",
    "fName <-paste(files_2[[1]], \"_Results\", sep=\"\")\n",
    "\n",
    "print(files_1)"
   ]
  },
  {
   "cell_type": "markdown",
   "id": "55ab1133",
   "metadata": {
    "id": "55ab1133"
   },
   "source": [
    "**<font color='red'> In the following line, enter the required file ID numbers separated by commas. For example as: 1,2,3 </font>**"
   ]
  },
  {
   "cell_type": "code",
   "execution_count": null,
   "id": "45d07e82",
   "metadata": {
    "id": "45d07e82"
   },
   "outputs": [],
   "source": [
    "input <- as.double(unlist(strsplit(readline(\"Specify the file index of gapfilled & non-gapfilled feature-file, metadata:\"), split=\",\")))\n",
    "\n",
    "#Gets the extension of each file. Ex:csv\n",
    "pattern <- c()\n",
    "for (i in files_1){\n",
    "  sep_file <- substr(i, nchar(i)-2,nchar(i))\n",
    "  pattern <- rbind(pattern,sep_file)\n",
    "}\n",
    "#pattern\n",
    "\n",
    "ft <- read.csv(files_1[input[1]],sep = ifelse(pattern[input[1]]!=\"csv\",\"\\t\",\",\"), header=TRUE,check.names = FALSE) # By applying 'row.names = 1', the 1st column 'ID' becomes the row names\n",
    "nft<- read.csv(files_1[input[2]],sep=ifelse(pattern[input[2]]!=\"csv\",\"\\t\",\",\"), header = TRUE,check.names = FALSE)\n",
    "md <-read.csv(files_1[input[3]], sep = ifelse(pattern[input[3]]!=\"csv\",\"\\t\",\",\"), header=TRUE,check.names = FALSE)"
   ]
  },
  {
   "cell_type": "markdown",
   "id": "4f12e24c",
   "metadata": {
    "id": "4f12e24c"
   },
   "source": [
    "Lets check if the data has been read correclty!!"
   ]
  },
  {
   "cell_type": "code",
   "execution_count": null,
   "id": "429ff705",
   "metadata": {
    "id": "429ff705"
   },
   "outputs": [],
   "source": [
    "head(ft)\n",
    "dim(ft)"
   ]
  },
  {
   "cell_type": "code",
   "execution_count": null,
   "id": "864b7231",
   "metadata": {
    "id": "864b7231"
   },
   "outputs": [],
   "source": [
    "head(nft)\n",
    "dim(nft)"
   ]
  },
  {
   "cell_type": "code",
   "execution_count": null,
   "id": "a7bf0865",
   "metadata": {
    "id": "a7bf0865"
   },
   "outputs": [],
   "source": [
    "head(md)\n",
    "dim(md)"
   ]
  },
  {
   "cell_type": "markdown",
   "id": "f19073e0",
   "metadata": {
    "id": "f19073e0"
   },
   "source": [
    "Trying to bring the feature table and metadata in the correct format:"
   ]
  },
  {
   "cell_type": "code",
   "execution_count": null,
   "id": "25ffd93c",
   "metadata": {
    "id": "25ffd93c"
   },
   "outputs": [],
   "source": [
    "#Removing Peak area extensions\n",
    "colnames(ft) <- gsub(' Peak area','',colnames(ft))\n",
    "colnames(nft) <- gsub(' Peak area','',colnames(nft))\n",
    "md$filename<- gsub(' Peak area','',md$filename)\n",
    "\n",
    "#Removing if any NA columns present in the md file\n",
    "ft <- ft[,colSums(is.na(ft))<nrow(ft)]\n",
    "nft <- nft[,colSums(is.na(nft))<nrow(nft)]\n",
    "md <- md[,colSums(is.na(md))<nrow(md)]\n",
    "\n",
    "#Changing the row names of the files\n",
    "rownames(md) <- md$filename\n",
    "md <- md[,-1]\n",
    "rownames(ft) <- paste(ft$'row ID',round(ft$'row m/z',digits = 3),round(ft$'row retention time',digits = 3), sep = '_')\n",
    "rownames(nft) <- paste(nft$'row ID',round(nft$'row m/z',digits = 3),round(nft$'row retention time',digits = 3), sep = '_')\n",
    "\n",
    "#Picking only the files with column names containing 'mzML'\n",
    "ft <- ft[,grep('mzML',colnames(ft))]\n",
    "nft <- nft[,grep('mzML',colnames(nft))]\n",
    "\n",
    "# Converting replicate attributes into factors (categorical data)\n",
    "md$ATTRIBUTE_replicates <- as.factor(md$ATTRIBUTE_replicates)"
   ]
  },
  {
   "cell_type": "markdown",
   "id": "e927cf45",
   "metadata": {
    "id": "e927cf45"
   },
   "source": [
    "Lets check the files once again!!"
   ]
  },
  {
   "cell_type": "code",
   "execution_count": null,
   "id": "e76fb0e3",
   "metadata": {
    "id": "e76fb0e3"
   },
   "outputs": [],
   "source": [
    "head(nft)\n",
    "dim(nft)"
   ]
  },
  {
   "cell_type": "code",
   "execution_count": null,
   "id": "499d8a48",
   "metadata": {
    "id": "499d8a48"
   },
   "outputs": [],
   "source": [
    "head(ft)\n",
    "dim(ft)"
   ]
  },
  {
   "cell_type": "code",
   "execution_count": null,
   "id": "55093982",
   "metadata": {
    "id": "55093982"
   },
   "outputs": [],
   "source": [
    "head(md)\n",
    "dim(md)"
   ]
  },
  {
   "cell_type": "markdown",
   "id": "96275453",
   "metadata": {
    "id": "96275453"
   },
   "source": [
    "### Creating a function named FrequencyPlot:  \n",
    "The below function takes in the two input datatables: for example, gapfilled and non-gapfilled, calculates the frequency distribution of the data in the order of 10 and produces a grouped barplot showing the distribution as output. The frequency plot shows where the features are present in higher number."
   ]
  },
  {
   "cell_type": "code",
   "execution_count": null,
   "id": "e6d2b3b4",
   "metadata": {
    "id": "e6d2b3b4"
   },
   "outputs": [],
   "source": [
    "#'Global' settings for plot size in the output cell\n",
    "#options(repr.plot.width=10, repr.plot.height=8,res=600) #For google collab\n",
    "options(repr.plot.width=5, repr.plot.height=3) #For Jupyter Notebook"
   ]
  },
  {
   "cell_type": "code",
   "execution_count": null,
   "id": "4755a764",
   "metadata": {
    "id": "4755a764"
   },
   "outputs": [],
   "source": [
    "FrequencyPlot <- function(x1,x2){\n",
    "  \n",
    "   #creating bins from -1 to 10^10 using sequence function seq()\n",
    "    bins <- c(-1,0,(1 * 10^(seq(0,10,1)))) \n",
    "    \n",
    "    #cut function cuts the give table into its appropriate bins\n",
    "    scores_x1 <- cut(as.matrix(x1),bins,labels = c('0','1','10','1E2','1E3','1E4','1E5','1E6','1E7','1E8','1E9','1E10')) \n",
    "    \n",
    "    #transform function convert the tables into a column format: easy for visualization \n",
    "    Table_x1<-transform(table(scores_x1)) #contains 2 columns: \"scores_x1\", \"Freq\"\n",
    "    \n",
    "    #Repeating the same steps for x2\n",
    "    scores_x2 <- cut(as.matrix(x2),bins,labels = c('0','1','10','1E2','1E3','1E4','1E5','1E6','1E7','1E8','1E9','1E10'))\n",
    "    Table_x2<-transform(table(scores_x2))\n",
    "  \n",
    "    #Getting the names of x1 and x2\n",
    "    arg1 <- deparse(substitute(x1))\n",
    "    arg2 <-deparse(substitute(x2))\n",
    "    \n",
    "    #Creating a data frame for plotting\n",
    "    data_plot <- as.data.frame(c(Table_x1$Freq,Table_x2$Freq)) #Concatenating the frequency info of both tables rowwise\n",
    "    colnames(data_plot) <- \"Freq\" #naming the 1st column as 'Freq'\n",
    "    data_plot$Condition <- c(rep(arg1,12),rep(arg2,12)) #adding a 2nd column 'Condition', which just repeats the name of x1 and x2 accordingly\n",
    "    data_plot$Range_bins <- rep(Table_x1$scores_x1,2) #Adding 3rd column 'Range Bins'\n",
    "    data_plot$Log_Freq <- log(data_plot$Freq+1) #Log scaling the frequency values\n",
    "    \n",
    "    ## GGPLOT2\n",
    "    BarPlot <- ggplot(data_plot, aes(Range_bins, Log_Freq, fill = Condition)) + \n",
    "    geom_bar(stat=\"identity\", position = \"dodge\", width=0.4) + \n",
    "    scale_fill_brewer(palette = \"Set1\") +\n",
    "    ggtitle(label=\"Frequency plot\") +\n",
    "    xlab(\"Range\") + ylab(\"(Log)Frequency\") + labs(fill = \"Data Type\") + \n",
    "    theme(axis.text.x = element_text(angle = 90, vjust = 0.5, hjust=1)) +   # setting the angle for the x label\n",
    "    theme(axis.text.y = element_text(angle = 45, vjust = 0.5, hjust=1)) +   # setting the angle for the y label\n",
    "    theme(plot.title = element_text(hjust = 0.5)) # centering the plot title\n",
    "  \n",
    "    print(BarPlot)\n",
    "}  "
   ]
  },
  {
   "cell_type": "markdown",
   "id": "ea08fc3d",
   "metadata": {
    "id": "ea08fc3d"
   },
   "source": [
    "**About the experiment:**\n",
    "- Bacteria (B.subtilis) was treated with a pool of antibiotics (Sulfamethoxazole, sulfadimethoxine, cyproconazole) including a herbicide Asulam, taken at a concentration lower than their MIC (minimum inhibitory concentration).\n",
    "- The samples were collected at different timepoints, the compounds were extracted (with 50% EtOAc) and measured using LC-MS/MS.\n",
    "- The goal of the experiment was to look for any potential biotransformation. eg: Drug or xenobiotic metabolism"
   ]
  },
  {
   "cell_type": "markdown",
   "id": "865c5807",
   "metadata": {},
   "source": [
    "## Splitting the data into Control and Samples using Metadata:"
   ]
  },
  {
   "cell_type": "code",
   "execution_count": null,
   "id": "fb85e4ae",
   "metadata": {},
   "outputs": [],
   "source": [
    "head(md)\n",
    "print(matrix(data=colnames(md),nrow=length(colnames(md))))\n",
    "\n",
    "#These lines are not needed in R console, but in Jupyter Notebook to get the previous print statement working\n",
    "flush.console()  \n",
    "Sys.sleep(0.2)\n",
    "\n",
    "Condition <- as.double(unlist(readline(\"Enter the index of the attribute to split sample and control:\")))\n",
    "\n",
    "flush.console()  \n",
    "Sys.sleep(0.2)\n",
    "\n",
    "Levels_Cdtn <- levels(as.factor(md[,Condition[1]]))\n",
    "print(matrix(Levels_Cdtn,length(Levels_Cdtn)))\n",
    "\n",
    "flush.console()  \n",
    "Sys.sleep(0.2)\n",
    "    \n",
    "#Among the shown levels of an attribute, select the ones to keep\n",
    "Ctrl_id <- as.double(unlist(readline(\"Enter the index of your BLANK:\")))\n",
    "paste0('You chosen blank is:',Levels_Cdtn[Ctrl_id])\n",
    "\n",
    "#Splitting the data into control and samples based on the metadata\n",
    "md_Ctrl <- md[(md[,Condition] == Levels_Cdtn[Ctrl_id]),]\n",
    "Ctrl <- input_data[,which(colnames(input_data)%in%rownames(md_Ctrl))] \n",
    "md_Samples <- md[(md[,Condition] != Levels_Cdtn[Ctrl_id]),]\n",
    "Samples <- input_data[,which(colnames(input_data)%in%rownames(md_Samples))] "
   ]
  },
  {
   "cell_type": "code",
   "execution_count": null,
   "id": "10010f89",
   "metadata": {},
   "outputs": [],
   "source": [
    "head(Ctrl)\n",
    "dim(Ctrl)"
   ]
  },
  {
   "cell_type": "code",
   "execution_count": null,
   "id": "d088cb2e",
   "metadata": {},
   "outputs": [],
   "source": [
    "head(Samples)\n",
    "dim(Samples)"
   ]
  },
  {
   "cell_type": "code",
   "execution_count": null,
   "id": "3ad2c623",
   "metadata": {},
   "outputs": [],
   "source": [
    "FrequencyPlot(Samples,Ctrl)"
   ]
  },
  {
   "cell_type": "markdown",
   "id": "43099574",
   "metadata": {
    "id": "43099574"
   },
   "source": [
    "## Blank Removal:\n",
    "\n",
    "(Note: In LC-MS/MS, we use solvents also called as Blanks which are usually injected time-to-time to prevent carryover of the sample) </br>\n",
    "\n",
    "For the Blank removal step, we need to split the data as control blanks and samples. </br>\n",
    "\n",
    "**The blanks we are referring to here, is the control blanks in the experiment and not the LC-MS/MS blanks.**\n",
    "- The control blanks here is the sample without treatment. \n",
    "- Samples are biological replicates with treatment and we have two sets of data: B.sub and E.coli. </br>\n",
    "\n",
    "In general, having multiple control blanks helps us to compare any variation in the data. Comparing control to the sample helps us to identify the background features that contribute to any technical variation. A common filtering method is to use a cutoff to remove features that are not present sufficient enough in our biological samples.\n",
    "\n",
    "1. We find an average for all the feature intensities in your control set and sample set.\n",
    "Therefore, for n no.of features in a control or sample set, we get n no.of averaged features.\n",
    "2. Next, we get a ratio of this average_control vs average_sample. This ratio Control/sample tells us how much of that particular feature of a sample gets its contribution from control. If it is more than 30% (or Cutoff as 0.3), we consider the feature as noise.\n",
    "3. The resultant information (if ratio > Cutoff or not) is stored in a bin\n",
    "4. We count the no.of features in the bin that satisfies the condition ratio > cutoff, and consider those features as 'noise or background features' and remove them.\n",
    "\n",
    "For a dataset containing several batches, the filtering steps are performed batch-wise."
   ]
  },
  {
   "cell_type": "markdown",
   "id": "59b5482f",
   "metadata": {
    "id": "59b5482f"
   },
   "source": [
    "<font color='red'>Note: The Cutoff value chosen for getting the files in the folder **Preprocessing Jupyter Output files-Data CleanUp** in the github: 0.9 </font>"
   ]
  },
  {
   "cell_type": "code",
   "execution_count": null,
   "id": "af1aa72f",
   "metadata": {
    "id": "af1aa72f"
   },
   "outputs": [],
   "source": [
    "if(readline('Do you want to perform Blank Removal- Y/N:')=='Y'){\n",
    "    \n",
    "    #When cutoff is low, more noise (or background) detected; With higher cutoff, less background detected, thus more features observed\n",
    "    Cutoff <- as.numeric(readline('Enter Cutoff value between 0.1 & 1:')) # (i.e. 10% - 100%). Ideal cutoff range: 0.1-0.3\n",
    "    \n",
    "    #Getting mean for every feature in Ctrl and Samples\n",
    "    Avg_ctrl <- rowMeans(Ctrl, na.rm= FALSE, dims = 1) # set na.rm = FALSE to check if there are NA values. When set as TRUE, NA values are changed to 0\n",
    "    Avg_samples <- rowMeans(Samples, na.rm= FALSE, dims = 1)\n",
    "    \n",
    "    #Getting the ratio of Ctrl vs Sample\n",
    "    Ratio_Ctrl_Sample <- (Avg_ctrl+1)/(Avg_samples+1)\n",
    "    \n",
    "    # Creating a bin with 1s when the ratio>Cutoff, else put 0s\n",
    "    Blank_removal <- Samples\n",
    "    Blank_removal$Bg_bin <- ifelse(Ratio_Ctrl_Sample > Cutoff, 1, 0 )\n",
    "\n",
    "    # Checking if there are any NA values present. Having NA values in the 4 variables will affect the final dataset to be created\n",
    "    temp_NA_Count <-cbind(Avg_ctrl ,Avg_samples,Ratio_Ctrl_Sample,Bg_bin)\n",
    "    \n",
    "    print('No of NA values in the following columns:')\n",
    "    print(colSums(is.na(temp_NA_Count)))\n",
    "\n",
    "     #Calculating the number of background features and features present\n",
    "    print(paste(\"No.of Background or noise features:\",sum(Bg_bin ==1,na.rm = TRUE)))\n",
    "    print(paste(\"No.of features after excluding noise:\",(nrow(Samples) - sum(Bg_bin ==1,na.rm = TRUE)))) \n",
    "\n",
    "    Blank_removal <- Blank_removal %>% filter(Bg_bin == 0)\n",
    "    Blank_removal <- as.matrix(Blank_removal[,-ncol(Blank_removal)])\n",
    "}"
   ]
  },
  {
   "cell_type": "markdown",
   "id": "b4210007",
   "metadata": {
    "id": "b4210007"
   },
   "source": [
    "## Imputation: \n",
    "\n",
    "For several reasons, real world datasets might have some missing values in it, in the form of NA, NANs or 0s. Eventhough the gapfilling step of MZmine fills the missing values, we still end up with some missing values or 0s in our feature table. This could be problematic for statistical analysis. \n",
    "In order to have a better dataset, we cannot simply discard those rows or columns with missing values as we will lose a chunk of our valuable data.\n",
    "Instead we can try imputing those missing values. Imputation involves replacing the missing values in the data with a meaningful, reasonable guess. There are several methods, such as:  \n",
    "1) Mean imputation (replacing the missing values in a column with the mean or average of the column)  \n",
    "2) Replacing it with the most frequent value  \n",
    "3) Several other machine learning imputation methods such as k-nearest neighbors algorithm(k-NN), Hidden Markov Model(HMM)\n",
    "\n",
    "One such method, we are going to use is: **to replace the zeros from the gapfilled quant table with the non-gap filled table** we get from MZmine. In order to do that, we can visualize our data distribution using the frequenct plot"
   ]
  },
  {
   "cell_type": "code",
   "execution_count": 118,
   "id": "9d83ae53",
   "metadata": {
    "id": "9d83ae53"
   },
   "outputs": [],
   "source": [
    "GapFilled <-Blank_removal\n",
    "NotGapFilled <- nft"
   ]
  },
  {
   "cell_type": "code",
   "execution_count": 119,
   "id": "e527abdb",
   "metadata": {
    "id": "e527abdb"
   },
   "outputs": [
    {
     "name": "stdout",
     "output_type": "stream",
     "text": [
      "Do you want to perform Imputation with minimum value of NonGapFilled table? - Y/N:Y\n",
      "[1] \"The minimum value greater than 0 for GapFilled:123\"\n",
      "[1] \"The minimum value greater than 0 for NotGapFilled:3766\"\n"
     ]
    },
    {
     "data": {
      "image/png": "[encoded data removed]",
      "text/plain": [
       "plot without title"
      ]
     },
     "metadata": {},
     "output_type": "display_data"
    }
   ],
   "source": [
    "if(readline('Do you want to perform Imputation with minimum value of NonGapFilled table? - Y/N:')=='Y'){\n",
    "    \n",
    "    plot<- FrequencyPlot(GapFilled,NotGapFilled)\n",
    "    \n",
    "    Arg1 = plot$data$Condition[1]\n",
    "    Arg2 = plot$data$Condition[13]\n",
    "    \n",
    "    # accessing the datatable of plot and subsetting with the condition: Eliminating the Range (or bin) 0 and Ranges with zero frequencies \n",
    "    plotData_New <- subset(plot$data,plot$data$Freq!=0 & plot$data$Range_bins !=0) \n",
    "    \n",
    "    #getting the first appearing value of this new plot datatable\n",
    "    First_val_temp <- aggregate(plotData_New$Freq, by=list(plotData_New$Condition), FUN=first) \n",
    "    \n",
    "    # Subsetting the rows in the plotData_New that has the first appearing values\n",
    "    First_val <- plotData_New[plotData_New$Freq %in% c(First_val_temp$x[1],First_val_temp$x[2]),]\n",
    "  \n",
    "    # getting the 2nd minimum value of non-gap filled data. (The first minimum value in the data table is usually zero)\n",
    "    RawLOD <- round(min(NotGapFilled[NotGapFilled!=min(NotGapFilled)]))\n",
    "    print(paste0(\"The minimum value greater than 0 for \",Arg1,\":\", round(min(GapFilled[GapFilled!=min(GapFilled)]))))\n",
    "    print(paste0(\"The minimum value greater than 0 for \",Arg2,\":\", RawLOD))\n",
    "    \n",
    "    Imputed <- GapFilled\n",
    "    Imputed[Imputed<RawLOD] <- RawLOD # Replacing values<RawLOD with RawLOD\n",
    "} else return(GapFilled)"
   ]
  },
  {
   "cell_type": "code",
   "execution_count": null,
   "id": "191a6c10",
   "metadata": {},
   "outputs": [],
   "source": [
    "write.csv(Imputed, file=paste0('Quant_Table_filled_with_MinValue_',RawLOD,'.csv'),row.names =FALSE) "
   ]
  },
  {
   "cell_type": "code",
   "execution_count": 99,
   "id": "8de2b5b4",
   "metadata": {},
   "outputs": [
    {
     "data": {
      "text/html": [
       "<table>\n",
       "<thead><tr><th></th><th scope=col>t2_BS_C.mzML</th><th scope=col>t0_BS_C.mzML</th><th scope=col>t1_BS_C.mzML</th><th scope=col>t5_BS_C.mzML</th><th scope=col>t3_BS_3.mzML</th><th scope=col>t2_BS_2.mzML</th><th scope=col>t3_BS_C.mzML</th><th scope=col>t2_BS_1.mzML</th><th scope=col>t3_BS_2.mzML</th><th scope=col>t1_BS_1.mzML</th><th scope=col>...</th><th scope=col>t5_BS_3.mzML</th><th scope=col>t6_BS_2.mzML</th><th scope=col>t5_BS_1.mzML</th><th scope=col>t6_BS_3.mzML</th><th scope=col>t0_BS_1.mzML</th><th scope=col>t9_BS_1.mzML</th><th scope=col>t5_BS_2.mzML</th><th scope=col>t8_BS_3.mzML</th><th scope=col>t9_BS_3.mzML</th><th scope=col>t9_BS_2.mzML</th></tr></thead>\n",
       "<tbody>\n",
       "\t<tr><th scope=row>46_284.049_0.292</th><td>28967.65   </td><td>6016.644   </td><td>19891.79   </td><td>137709.25  </td><td> 38654.650 </td><td>123643.766 </td><td> 48592.70  </td><td> 87621.97  </td><td> 15638.634 </td><td> 43170.520 </td><td>...        </td><td>140709.11  </td><td> 57526.60  </td><td> 30458.35  </td><td>  3766.00  </td><td> 35278.086 </td><td> 69360.08  </td><td> 46725.547 </td><td> 69138.67  </td><td>  41619.816</td><td> 158943.36 </td></tr>\n",
       "\t<tr><th scope=row>95_245.095_0.52</th><td> 3766.00   </td><td>3766.000   </td><td> 3766.00   </td><td> 43263.97  </td><td> 68092.710 </td><td> 54846.290 </td><td> 51597.93  </td><td> 40212.03  </td><td> 68410.980 </td><td> 74559.234 </td><td>...        </td><td> 19731.48  </td><td> 63450.43  </td><td> 15515.95  </td><td> 73982.30  </td><td>173294.600 </td><td> 34425.60  </td><td> 45211.176 </td><td> 30443.56  </td><td>  34075.530</td><td>  51332.15 </td></tr>\n",
       "\t<tr><th scope=row>99_157.097_0.52</th><td> 3766.00   </td><td>3766.000   </td><td> 3766.00   </td><td>  4953.36  </td><td>  8625.011 </td><td>  4815.979 </td><td>  4152.35  </td><td>  3766.00  </td><td>  7641.581 </td><td>  6916.565 </td><td>...        </td><td>  3766.00  </td><td> 14335.19  </td><td>  3766.00  </td><td> 16845.83  </td><td>  8836.821 </td><td> 15117.90  </td><td>  6946.169 </td><td> 10768.89  </td><td>  14589.145</td><td>  31121.90 </td></tr>\n",
       "\t<tr><th scope=row>106_166.103_0.532</th><td> 3766.00   </td><td>3766.000   </td><td> 3766.00   </td><td>  3766.00  </td><td>  3766.000 </td><td>  3766.000 </td><td>  3766.00  </td><td>  3766.00  </td><td>  3766.000 </td><td>  3766.000 </td><td>...        </td><td>  3766.00  </td><td>  3766.00  </td><td>  3766.00  </td><td>  3766.00  </td><td>  3766.000 </td><td>  3766.00  </td><td>  3766.000 </td><td>  3766.00  </td><td>   7789.463</td><td>  11774.10 </td></tr>\n",
       "\t<tr><th scope=row>107_160.076_0.522</th><td> 3766.00   </td><td>3766.000   </td><td> 3766.00   </td><td>354050.30  </td><td>427649.620 </td><td>312332.620 </td><td>313545.00  </td><td>209269.45  </td><td>593663.900 </td><td>401620.970 </td><td>...        </td><td>242058.36  </td><td>954094.75  </td><td>213120.95  </td><td>814353.56  </td><td>404429.660 </td><td>931383.94  </td><td>427234.220 </td><td>666837.30  </td><td>1050392.200</td><td>1309049.90 </td></tr>\n",
       "\t<tr><th scope=row>111_169.097_0.525</th><td> 3766.00   </td><td>4054.369   </td><td> 3766.00   </td><td>637458.60  </td><td>706535.700 </td><td>609720.940 </td><td>615655.20  </td><td>468750.70  </td><td>706034.300 </td><td>665166.500 </td><td>...        </td><td>436133.40  </td><td>893395.44  </td><td>378563.44  </td><td>886614.50  </td><td>800889.440 </td><td>890976.94  </td><td>687120.800 </td><td>804205.44  </td><td> 986138.440</td><td>1347099.20 </td></tr>\n",
       "</tbody>\n",
       "</table>\n"
      ],
      "text/latex": [
       "\\begin{tabular}{r|llllllllllllllllllllllllllllllllllllllll}\n",
       "  & t2\\_BS\\_C.mzML & t0\\_BS\\_C.mzML & t1\\_BS\\_C.mzML & t5\\_BS\\_C.mzML & t3\\_BS\\_3.mzML & t2\\_BS\\_2.mzML & t3\\_BS\\_C.mzML & t2\\_BS\\_1.mzML & t3\\_BS\\_2.mzML & t1\\_BS\\_1.mzML & ... & t5\\_BS\\_3.mzML & t6\\_BS\\_2.mzML & t5\\_BS\\_1.mzML & t6\\_BS\\_3.mzML & t0\\_BS\\_1.mzML & t9\\_BS\\_1.mzML & t5\\_BS\\_2.mzML & t8\\_BS\\_3.mzML & t9\\_BS\\_3.mzML & t9\\_BS\\_2.mzML\\\\\n",
       "\\hline\n",
       "\t46\\_284.049\\_0.292 & 28967.65    & 6016.644    & 19891.79    & 137709.25   &  38654.650  & 123643.766  &  48592.70   &  87621.97   &  15638.634  &  43170.520  & ...         & 140709.11   &  57526.60   &  30458.35   &   3766.00   &  35278.086  &  69360.08   &  46725.547  &  69138.67   &   41619.816 &  158943.36 \\\\\n",
       "\t95\\_245.095\\_0.52 &  3766.00    & 3766.000    &  3766.00    &  43263.97   &  68092.710  &  54846.290  &  51597.93   &  40212.03   &  68410.980  &  74559.234  & ...         &  19731.48   &  63450.43   &  15515.95   &  73982.30   & 173294.600  &  34425.60   &  45211.176  &  30443.56   &   34075.530 &   51332.15 \\\\\n",
       "\t99\\_157.097\\_0.52 &  3766.00    & 3766.000    &  3766.00    &   4953.36   &   8625.011  &   4815.979  &   4152.35   &   3766.00   &   7641.581  &   6916.565  & ...         &   3766.00   &  14335.19   &   3766.00   &  16845.83   &   8836.821  &  15117.90   &   6946.169  &  10768.89   &   14589.145 &   31121.90 \\\\\n",
       "\t106\\_166.103\\_0.532 &  3766.00    & 3766.000    &  3766.00    &   3766.00   &   3766.000  &   3766.000  &   3766.00   &   3766.00   &   3766.000  &   3766.000  & ...         &   3766.00   &   3766.00   &   3766.00   &   3766.00   &   3766.000  &   3766.00   &   3766.000  &   3766.00   &    7789.463 &   11774.10 \\\\\n",
       "\t107\\_160.076\\_0.522 &  3766.00    & 3766.000    &  3766.00    & 354050.30   & 427649.620  & 312332.620  & 313545.00   & 209269.45   & 593663.900  & 401620.970  & ...         & 242058.36   & 954094.75   & 213120.95   & 814353.56   & 404429.660  & 931383.94   & 427234.220  & 666837.30   & 1050392.200 & 1309049.90 \\\\\n",
       "\t111\\_169.097\\_0.525 &  3766.00    & 4054.369    &  3766.00    & 637458.60   & 706535.700  & 609720.940  & 615655.20   & 468750.70   & 706034.300  & 665166.500  & ...         & 436133.40   & 893395.44   & 378563.44   & 886614.50   & 800889.440  & 890976.94   & 687120.800  & 804205.44   &  986138.440 & 1347099.20 \\\\\n",
       "\\end{tabular}\n"
      ],
      "text/markdown": [
       "\n",
       "| <!--/--> | t2_BS_C.mzML | t0_BS_C.mzML | t1_BS_C.mzML | t5_BS_C.mzML | t3_BS_3.mzML | t2_BS_2.mzML | t3_BS_C.mzML | t2_BS_1.mzML | t3_BS_2.mzML | t1_BS_1.mzML | ... | t5_BS_3.mzML | t6_BS_2.mzML | t5_BS_1.mzML | t6_BS_3.mzML | t0_BS_1.mzML | t9_BS_1.mzML | t5_BS_2.mzML | t8_BS_3.mzML | t9_BS_3.mzML | t9_BS_2.mzML |\n",
       "|---|---|---|---|---|---|---|---|---|---|---|---|---|---|---|---|---|---|---|---|---|---|\n",
       "| 46_284.049_0.292 | 28967.65    | 6016.644    | 19891.79    | 137709.25   |  38654.650  | 123643.766  |  48592.70   |  87621.97   |  15638.634  |  43170.520  | ...         | 140709.11   |  57526.60   |  30458.35   |   3766.00   |  35278.086  |  69360.08   |  46725.547  |  69138.67   |   41619.816 |  158943.36  |\n",
       "| 95_245.095_0.52 |  3766.00    | 3766.000    |  3766.00    |  43263.97   |  68092.710  |  54846.290  |  51597.93   |  40212.03   |  68410.980  |  74559.234  | ...         |  19731.48   |  63450.43   |  15515.95   |  73982.30   | 173294.600  |  34425.60   |  45211.176  |  30443.56   |   34075.530 |   51332.15  |\n",
       "| 99_157.097_0.52 |  3766.00    | 3766.000    |  3766.00    |   4953.36   |   8625.011  |   4815.979  |   4152.35   |   3766.00   |   7641.581  |   6916.565  | ...         |   3766.00   |  14335.19   |   3766.00   |  16845.83   |   8836.821  |  15117.90   |   6946.169  |  10768.89   |   14589.145 |   31121.90  |\n",
       "| 106_166.103_0.532 |  3766.00    | 3766.000    |  3766.00    |   3766.00   |   3766.000  |   3766.000  |   3766.00   |   3766.00   |   3766.000  |   3766.000  | ...         |   3766.00   |   3766.00   |   3766.00   |   3766.00   |   3766.000  |   3766.00   |   3766.000  |   3766.00   |    7789.463 |   11774.10  |\n",
       "| 107_160.076_0.522 |  3766.00    | 3766.000    |  3766.00    | 354050.30   | 427649.620  | 312332.620  | 313545.00   | 209269.45   | 593663.900  | 401620.970  | ...         | 242058.36   | 954094.75   | 213120.95   | 814353.56   | 404429.660  | 931383.94   | 427234.220  | 666837.30   | 1050392.200 | 1309049.90  |\n",
       "| 111_169.097_0.525 |  3766.00    | 4054.369    |  3766.00    | 637458.60   | 706535.700  | 609720.940  | 615655.20   | 468750.70   | 706034.300  | 665166.500  | ...         | 436133.40   | 893395.44   | 378563.44   | 886614.50   | 800889.440  | 890976.94   | 687120.800  | 804205.44   |  986138.440 | 1347099.20  |\n",
       "\n"
      ],
      "text/plain": [
       "                  t2_BS_C.mzML t0_BS_C.mzML t1_BS_C.mzML t5_BS_C.mzML\n",
       "46_284.049_0.292  28967.65     6016.644     19891.79     137709.25   \n",
       "95_245.095_0.52    3766.00     3766.000      3766.00      43263.97   \n",
       "99_157.097_0.52    3766.00     3766.000      3766.00       4953.36   \n",
       "106_166.103_0.532  3766.00     3766.000      3766.00       3766.00   \n",
       "107_160.076_0.522  3766.00     3766.000      3766.00     354050.30   \n",
       "111_169.097_0.525  3766.00     4054.369      3766.00     637458.60   \n",
       "                  t3_BS_3.mzML t2_BS_2.mzML t3_BS_C.mzML t2_BS_1.mzML\n",
       "46_284.049_0.292   38654.650   123643.766    48592.70     87621.97   \n",
       "95_245.095_0.52    68092.710    54846.290    51597.93     40212.03   \n",
       "99_157.097_0.52     8625.011     4815.979     4152.35      3766.00   \n",
       "106_166.103_0.532   3766.000     3766.000     3766.00      3766.00   \n",
       "107_160.076_0.522 427649.620   312332.620   313545.00    209269.45   \n",
       "111_169.097_0.525 706535.700   609720.940   615655.20    468750.70   \n",
       "                  t3_BS_2.mzML t1_BS_1.mzML ... t5_BS_3.mzML t6_BS_2.mzML\n",
       "46_284.049_0.292   15638.634    43170.520   ... 140709.11     57526.60   \n",
       "95_245.095_0.52    68410.980    74559.234   ...  19731.48     63450.43   \n",
       "99_157.097_0.52     7641.581     6916.565   ...   3766.00     14335.19   \n",
       "106_166.103_0.532   3766.000     3766.000   ...   3766.00      3766.00   \n",
       "107_160.076_0.522 593663.900   401620.970   ... 242058.36    954094.75   \n",
       "111_169.097_0.525 706034.300   665166.500   ... 436133.40    893395.44   \n",
       "                  t5_BS_1.mzML t6_BS_3.mzML t0_BS_1.mzML t9_BS_1.mzML\n",
       "46_284.049_0.292   30458.35      3766.00     35278.086    69360.08   \n",
       "95_245.095_0.52    15515.95     73982.30    173294.600    34425.60   \n",
       "99_157.097_0.52     3766.00     16845.83      8836.821    15117.90   \n",
       "106_166.103_0.532   3766.00      3766.00      3766.000     3766.00   \n",
       "107_160.076_0.522 213120.95    814353.56    404429.660   931383.94   \n",
       "111_169.097_0.525 378563.44    886614.50    800889.440   890976.94   \n",
       "                  t5_BS_2.mzML t8_BS_3.mzML t9_BS_3.mzML t9_BS_2.mzML\n",
       "46_284.049_0.292   46725.547    69138.67      41619.816   158943.36  \n",
       "95_245.095_0.52    45211.176    30443.56      34075.530    51332.15  \n",
       "99_157.097_0.52     6946.169    10768.89      14589.145    31121.90  \n",
       "106_166.103_0.532   3766.000     3766.00       7789.463    11774.10  \n",
       "107_160.076_0.522 427234.220   666837.30    1050392.200  1309049.90  \n",
       "111_169.097_0.525 687120.800   804205.44     986138.440  1347099.20  "
      ]
     },
     "metadata": {},
     "output_type": "display_data"
    },
    {
     "data": {
      "text/html": [
       "<ol class=list-inline>\n",
       "\t<li>4496</li>\n",
       "\t<li>40</li>\n",
       "</ol>\n"
      ],
      "text/latex": [
       "\\begin{enumerate*}\n",
       "\\item 4496\n",
       "\\item 40\n",
       "\\end{enumerate*}\n"
      ],
      "text/markdown": [
       "1. 4496\n",
       "2. 40\n",
       "\n",
       "\n"
      ],
      "text/plain": [
       "[1] 4496   40"
      ]
     },
     "metadata": {},
     "output_type": "display_data"
    }
   ],
   "source": [
    "head(Imputed)\n",
    "dim(Imputed)"
   ]
  },
  {
   "cell_type": "markdown",
   "id": "e7eac20d",
   "metadata": {
    "id": "e7eac20d"
   },
   "source": [
    "## Imputation with a Cutoff LOD:\n",
    "Previously we have replaced the zeros in our Blank removed feature table(gapfilled) with the minimum value in nft(non gapfilled). Ex: 3766.<br>\n",
    "\n",
    "Instead, we can also only use  Blank removed feature table and see the frquency distribution of its features with the frequency plot. The frequency plot shows where the features are present in higher number.\n",
    "\n",
    "For ex: If until range 10-100, (shown in the figure as 1E2) there are no or very less features, we want to exclude until that range and consider from range (100-1000), or, in other words, '1E3' or '1000' as Cutoff_LOD. This value will be used to replace the zeros in the data table.\n",
    "\n",
    "The following step asks if the imputation was already performed, if so, it takes that value as the Cutoff_LOD, else, we get to specify our Cutoff_LOD based on the frequency plot."
   ]
  },
  {
   "cell_type": "code",
   "execution_count": 102,
   "id": "4de72398",
   "metadata": {
    "id": "4de72398"
   },
   "outputs": [
    {
     "name": "stdout",
     "output_type": "stream",
     "text": [
      "Was Imputation step already performed? Y/N :N\n",
      "Enter your Cutoff LOD here:1000\n"
     ]
    }
   ],
   "source": [
    "Cutoff_LOD <-ifelse(readline(\"Was Imputation step already performed? Y/N :\")==\"Y\",RawLOD,as.numeric(readline(\"Enter your Cutoff LOD here:\")))  #Enter the LOD value as seen in the frequency plot\n",
    "Imputed<- Blank_removal\n",
    "Imputed[Imputed_LOD <Cutoff_LOD] <- Cutoff_LOD"
   ]
  },
  {
   "cell_type": "code",
   "execution_count": null,
   "id": "ed071fa7",
   "metadata": {
    "id": "ed071fa7"
   },
   "outputs": [],
   "source": [
    "write.csv(Imputed,file.path(fName, paste0('Processed_QuantTable_filled_with_',Cutoff_LOD,'_CutOff_Used_',Cutoff,'_Bsub','.csv')),row.names =TRUE)"
   ]
  },
  {
   "cell_type": "code",
   "execution_count": null,
   "id": "8f428856",
   "metadata": {
    "id": "8f428856"
   },
   "outputs": [],
   "source": [
    "#removing all the rows with only cutoff values:\n",
    "Imputed<-Imputed[rowMeans(Imputed)!= Cutoff_LOD,]  "
   ]
  },
  {
   "cell_type": "markdown",
   "id": "f06a2dd7",
   "metadata": {
    "id": "f06a2dd7"
   },
   "source": [
    "## Normalization:\n",
    "The following code performs sample-centric (column-wise) normalisation:"
   ]
  },
  {
   "cell_type": "code",
   "execution_count": 123,
   "id": "3a008a7a",
   "metadata": {
    "id": "3a008a7a"
   },
   "outputs": [
    {
     "name": "stdout",
     "output_type": "stream",
     "text": [
      "Do you want to perform Normalization: Y/N:Y\n",
      "[1] \"No.of NA values in Normalized data: 0\"\n"
     ]
    }
   ],
   "source": [
    "if (readline(\"Do you want to perform Normalization: Y/N:\") == 'Y'){\n",
    "    \n",
    "    #Getting column-wise sums of the input-data\n",
    "    sample_sum <- colSums(Imputed, na.rm= TRUE, dims = 1)\n",
    "    \n",
    "    #Dividing each element of a particular column with its column sum\n",
    "    Normalized_data <- c()\n",
    "    for (i in 1:ncol(Imputed)){\n",
    "        x <- Imputed[,i] / sample_sum[i]\n",
    "        Normalized_data <- cbind(Normalized_data, x)\n",
    "    }\n",
    "    colnames(Normalized_data) <- names(sample_sum)\n",
    "    \n",
    "} else return(Imputed)\n",
    "  \n",
    "print(paste('No.of NA values in Normalized data:',sum(is.na(Normalized_data)== TRUE)))"
   ]
  },
  {
   "cell_type": "code",
   "execution_count": null,
   "id": "58fc407e",
   "metadata": {
    "id": "58fc407e"
   },
   "outputs": [],
   "source": [
    "write.csv(Normalized_data,file.path(fName,'Normalised_Quant_table.csv'),row.names =TRUE) "
   ]
  },
  {
   "cell_type": "markdown",
   "id": "f94c865d",
   "metadata": {},
   "source": [
    "## Principal Coordinate analysis:"
   ]
  },
  {
   "cell_type": "code",
   "execution_count": 124,
   "id": "ff1bfd57",
   "metadata": {},
   "outputs": [
    {
     "data": {
      "text/html": [
       "TRUE"
      ],
      "text/latex": [
       "TRUE"
      ],
      "text/markdown": [
       "TRUE"
      ],
      "text/plain": [
       "[1] TRUE"
      ]
     },
     "metadata": {},
     "output_type": "display_data"
    },
    {
     "data": {
      "text/html": [
       "0"
      ],
      "text/latex": [
       "0"
      ],
      "text/markdown": [
       "0"
      ],
      "text/plain": [
       "[1] 0"
      ]
     },
     "metadata": {},
     "output_type": "display_data"
    }
   ],
   "source": [
    "#Making sure the metadata rownames are identical to that of filenames in our featuretable in order to perform multivariate statistics\n",
    "md_Stats <- md[which(rownames(md)%in%colnames(Normalized_data)),]\n",
    "md_Stats <- md_Stats[match(colnames(Normalized_data),rownames(md_Stats)),]\n",
    "identical(colnames(Normalized_data),rownames(md_Stats))\n",
    "\n",
    "#Checking the data sparsity:\n",
    "sum(Normalized_data == 0)/(dim(Normalized_data)[1]*dim(Normalized_data)[2])"
   ]
  },
  {
   "cell_type": "code",
   "execution_count": 128,
   "id": "16255b8f",
   "metadata": {},
   "outputs": [],
   "source": [
    "dist_matrix <- bcdist(t(Normalized_data)) # transposed in order to compute the distance between the columns of a data matrix\n",
    "pcoa<- cmdscale(dist_matrix, eig = TRUE, x.ret=TRUE)\n",
    "pcoa.var.per <-round(pcoa$eig/sum(pcoa$eig)*100,1)\n",
    "pcoa.values <- pcoa$points"
   ]
  },
  {
   "cell_type": "code",
   "execution_count": 145,
   "id": "8e55e8c5",
   "metadata": {},
   "outputs": [
    {
     "name": "stdout",
     "output_type": "stream",
     "text": [
      "     [,1]                      \n",
      "[1,] \"ATTRIBUTE_species\"       \n",
      "[2,] \"ATTRIBUTE_With_Treatment\"\n",
      "[3,] \"ATTRIBUTE_timepoint\"     \n",
      "[4,] \"ATTRIBUTE_hours\"         \n",
      "[5,] \"ATTRIBUTE_mins\"          \n",
      "[6,] \"ATTRIBUTE_replicates\"    \n",
      "Enter the index of interested attribute for PCoA:3\n"
     ]
    }
   ],
   "source": [
    "#PCoA calculation\n",
    "print(matrix(data=colnames(md_Stats),nrow=length(colnames(md_Stats))))\n",
    "at_int <- readline('Enter the index of interested attribute for PCoA:')\n",
    "pcoa.data <- data.frame(md_Stats[,as.double(at_int)],\n",
    "                        X=pcoa.values[,1],\n",
    "                        Y=pcoa.values[,2])"
   ]
  },
  {
   "cell_type": "code",
   "execution_count": 146,
   "id": "7bdb1734",
   "metadata": {},
   "outputs": [
    {
     "data": {
      "image/png": "[encoded data removed]",
      "text/plain": [
       "plot without title"
      ]
     },
     "metadata": {},
     "output_type": "display_data"
    }
   ],
   "source": [
    "#PCoA plot:\n",
    "PCoA_plot <- ggplot(pcoa.data, aes(x=X, y=Y, col= as.factor(md_Stats[,as.double(at_int)]))) + \n",
    "  geom_point(size=4,alpha=0.8)  +\n",
    "  ggtitle(label=\"MDS plot using Bray-Cutis Distance\") +\n",
    "  xlab(paste0(\"MDS1 : \",pcoa.var.per[1],\"%\",sep=\"\")) + \n",
    "  ylab(paste0(\"MDS2 : \",pcoa.var.per[2],\"%\",sep=\"\")) + \n",
    "  labs(color = colnames(md_Stats)[as.double(at_int)]) + \n",
    "  theme(plot.title = element_text(hjust = 0.5)) \n",
    "PCoA_plot"
   ]
  },
  {
   "cell_type": "markdown",
   "id": "43edee3e",
   "metadata": {},
   "source": [
    "## Permutational multivariate analysis of variance (PERMANOVA):"
   ]
  },
  {
   "cell_type": "code",
   "execution_count": 147,
   "id": "9e4c37cb",
   "metadata": {},
   "outputs": [
    {
     "data": {
      "text/html": [
       "<table>\n",
       "<thead><tr><th></th><th scope=col>Df</th><th scope=col>SumOfSqs</th><th scope=col>R2</th><th scope=col>F</th><th scope=col>Pr(&gt;F)</th></tr></thead>\n",
       "<tbody>\n",
       "\t<tr><th scope=row>ATTRIBUTE_timepoint</th><td> 1       </td><td>0.4270834</td><td>0.1293081</td><td>5.643451 </td><td>0.001    </td></tr>\n",
       "\t<tr><th scope=row>Residual</th><td>38       </td><td>2.8757523</td><td>0.8706919</td><td>      NA </td><td>   NA    </td></tr>\n",
       "\t<tr><th scope=row>Total</th><td>39       </td><td>3.3028357</td><td>1.0000000</td><td>      NA </td><td>   NA    </td></tr>\n",
       "</tbody>\n",
       "</table>\n"
      ],
      "text/latex": [
       "\\begin{tabular}{r|lllll}\n",
       "  & Df & SumOfSqs & R2 & F & Pr(>F)\\\\\n",
       "\\hline\n",
       "\tATTRIBUTE\\_timepoint &  1        & 0.4270834 & 0.1293081 & 5.643451  & 0.001    \\\\\n",
       "\tResidual & 38        & 2.8757523 & 0.8706919 &       NA  &    NA    \\\\\n",
       "\tTotal & 39        & 3.3028357 & 1.0000000 &       NA  &    NA    \\\\\n",
       "\\end{tabular}\n"
      ],
      "text/markdown": [
       "\n",
       "| <!--/--> | Df | SumOfSqs | R2 | F | Pr(>F) |\n",
       "|---|---|---|---|---|---|\n",
       "| ATTRIBUTE_timepoint |  1        | 0.4270834 | 0.1293081 | 5.643451  | 0.001     |\n",
       "| Residual | 38        | 2.8757523 | 0.8706919 |       NA  |    NA     |\n",
       "| Total | 39        | 3.3028357 | 1.0000000 |       NA  |    NA     |\n",
       "\n"
      ],
      "text/plain": [
       "                    Df SumOfSqs  R2        F        Pr(>F)\n",
       "ATTRIBUTE_timepoint  1 0.4270834 0.1293081 5.643451 0.001 \n",
       "Residual            38 2.8757523 0.8706919       NA    NA \n",
       "Total               39 3.3028357 1.0000000       NA    NA "
      ]
     },
     "metadata": {},
     "output_type": "display_data"
    }
   ],
   "source": [
    "adonres <- adonis2(dist_matrix  ~ md_Stats[,as.double(at_int)])\n",
    "rownames(adonres)[1] <- colnames(md_Stats)[as.double(at_int)]\n",
    "adonres"
   ]
  },
  {
   "cell_type": "code",
   "execution_count": 144,
   "id": "4a925329",
   "metadata": {},
   "outputs": [
    {
     "data": {
      "image/png": "[encoded data removed]",
      "text/plain": [
       "plot without title"
      ]
     },
     "metadata": {},
     "output_type": "display_data"
    }
   ],
   "source": [
    "PCoA_plot + labs(subtitle = paste0(\"p=\",round(adonres$'Pr(>F)'[1],4),', ' ,\"adonis-R2=\",round(adonres$'R2'[1],4)))"
   ]
  },
  {
   "cell_type": "code",
   "execution_count": 152,
   "id": "0c9e8016",
   "metadata": {},
   "outputs": [],
   "source": [
    "ggsave(PCoA_plot,path=fName,filename=\"MDS_plot.svg\", width = 10, height = 8)"
   ]
  }
 ],
 "metadata": {
  "colab": {
   "collapsed_sections": [],
   "name": "0220716_CMFI_Seminar_Data_Cleanup_Prelim_Stats.ipynb",
   "provenance": [
    {
     "file_id": "https://github.com/abzer005/Summer-School_Functional-Metabolomics/blob/main/20220715_Data_CleanUp_SummerSchool_Metabolomics.ipynb",
     "timestamp": 1657987503674
    }
   ]
  },
  "kernelspec": {
   "display_name": "R",
   "language": "R",
   "name": "ir"
  },
  "language_info": {
   "codemirror_mode": "r",
   "file_extension": ".r",
   "mimetype": "text/x-r-source",
   "name": "R",
   "pygments_lexer": "r",
   "version": "3.6.1"
  }
 },
 "nbformat": 4,
 "nbformat_minor": 5
}
